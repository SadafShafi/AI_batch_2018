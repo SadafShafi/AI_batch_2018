{
  "nbformat": 4,
  "nbformat_minor": 0,
  "metadata": {
    "colab": {
      "name": "DFS.ipynb",
      "provenance": [],
      "authorship_tag": "ABX9TyNexSE9c9lfbPtqhgWgIYj8",
      "include_colab_link": true
    },
    "kernelspec": {
      "name": "python3",
      "display_name": "Python 3"
    },
    "language_info": {
      "name": "python"
    }
  },
  "cells": [
    {
      "cell_type": "markdown",
      "metadata": {
        "id": "view-in-github",
        "colab_type": "text"
      },
      "source": [
        "<a href=\"https://colab.research.google.com/github/SadafShafi/AI_batch_2018/blob/main/DFS.ipynb\" target=\"_parent\"><img src=\"https://colab.research.google.com/assets/colab-badge.svg\" alt=\"Open In Colab\"/></a>"
      ]
    },
    {
      "cell_type": "markdown",
      "metadata": {
        "id": "jmApj3SHCHCq"
      },
      "source": [
        "#DFS"
      ]
    },
    {
      "cell_type": "markdown",
      "metadata": {
        "id": "EezU-kHDB84f"
      },
      "source": [
        "Click for **[DFS interactive visualization](https://www.cs.usfca.edu/~galles/visualization/DFS.html)**"
      ]
    },
    {
      "cell_type": "code",
      "metadata": {
        "colab": {
          "base_uri": "https://localhost:8080/"
        },
        "id": "iRJv64Oh7f6b",
        "outputId": "d53f65e8-02cf-4852-8587-e31a53210fbb"
      },
      "source": [
        "graph = {0:[1,2],1:[3,4],2:[5,6],3:[],4:[],5:[],6:[]}\n",
        "# graph = {0: [1, 2], 1: [2], 2: [3], 3: [1, 2]}\n",
        "\n",
        "Stack = []\n",
        "Visited = []\n",
        "root = 0\n",
        "Stack.append(root)\n",
        "Visited.append(root)\n",
        "\n",
        "while (Stack):\n",
        "  \n",
        "  node = Stack.pop()\n",
        "  print(str(node) + \" \", end=\"\")\n",
        "  for child in graph[node]:\n",
        "    if child not in Visited:\n",
        "      Visited.append(child)\n",
        "      Stack.append(child)\n"
      ],
      "execution_count": 15,
      "outputs": [
        {
          "output_type": "stream",
          "text": [
            "0 2 6 5 1 4 3 "
          ],
          "name": "stdout"
        }
      ]
    },
    {
      "cell_type": "markdown",
      "metadata": {
        "id": "SJMCwIviCe4R"
      },
      "source": [
        "**Search using DFS**"
      ]
    },
    {
      "cell_type": "code",
      "metadata": {
        "colab": {
          "base_uri": "https://localhost:8080/"
        },
        "id": "11W82Di6AuMi",
        "outputId": "86ab5975-91c1-4549-f020-a2d63ced1061"
      },
      "source": [
        "graph = {0:[1,2],1:[3,4],2:[5,6],3:[],4:[],5:[],6:[]}\n",
        "# graph = {0: [1, 2], 1: [2], 2: [3], 3: [1, 2]}\n",
        "\n",
        "Stack = []\n",
        "Visited = []\n",
        "root = 0\n",
        "Stack.append(root)\n",
        "Visited.append(root)\n",
        "flagTobreak = False\n",
        "\n",
        "toFind = 44\n",
        "\n",
        "while (Stack):\n",
        "  \n",
        "  node = Stack.pop()\n",
        "  for child in graph[node]:\n",
        "    if child not in Visited:\n",
        "      Visited.append(child)\n",
        "      Stack.append(child)\n",
        "      if(toFind == child):\n",
        "        print(\"got it\")\n",
        "        flagTobreak = True\n",
        "  if(flagTobreak):\n",
        "    break\n",
        "else:\n",
        "    print(\"not present\")"
      ],
      "execution_count": 18,
      "outputs": [
        {
          "output_type": "stream",
          "text": [
            "not present\n"
          ],
          "name": "stdout"
        }
      ]
    },
    {
      "cell_type": "code",
      "metadata": {
        "id": "18vreykSCwpI"
      },
      "source": [
        ""
      ],
      "execution_count": null,
      "outputs": []
    }
  ]
}