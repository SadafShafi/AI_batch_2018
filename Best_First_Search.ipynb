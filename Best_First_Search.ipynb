{
  "nbformat": 4,
  "nbformat_minor": 0,
  "metadata": {
    "colab": {
      "name": "Best First Search.ipynb",
      "provenance": [],
      "authorship_tag": "ABX9TyNvoJFjP1KzZ2642sXHDwz+",
      "include_colab_link": true
    },
    "kernelspec": {
      "name": "python3",
      "display_name": "Python 3"
    },
    "language_info": {
      "name": "python"
    }
  },
  "cells": [
    {
      "cell_type": "markdown",
      "metadata": {
        "id": "view-in-github",
        "colab_type": "text"
      },
      "source": [
        "<a href=\"https://colab.research.google.com/github/SadafShafi/AI_batch_2018/blob/main/Best_First_Search.ipynb\" target=\"_parent\"><img src=\"https://colab.research.google.com/assets/colab-badge.svg\" alt=\"Open In Colab\"/></a>"
      ]
    },
    {
      "cell_type": "markdown",
      "metadata": {
        "id": "PBxEB1OdIfu6"
      },
      "source": [
        "[Refresher Video ](https://www.youtube.com/watch?v=dv1m3L6QXWs&ab_channel=PreethiSV)"
      ]
    },
    {
      "cell_type": "code",
      "metadata": {
        "id": "naVzjjprqssj"
      },
      "source": [
        "# { fromNode :[ toNode: cost],[ toNode: cost]}\n",
        "graph = { 0:[[1,3],[2,2],[3,1]], \n",
        "       1:[ [4,1]],\n",
        "       2:[[4,3],[6,2]],\n",
        "       3:[[5,6]],\n",
        "       5:[[6,1]],\n",
        "       4:[[6,2]],\n",
        "       6:[[6,0]]\n",
        "       }\n",
        "start = 0\n",
        "end = 6"
      ],
      "execution_count": 303,
      "outputs": []
    },
    {
      "cell_type": "code",
      "metadata": {
        "id": "GH-eLnsK9Gzr"
      },
      "source": [
        "graph = { 0:[[1,3],[2,2]], \n",
        "       1:[ [4,1]],\n",
        "       2:[[4,3],[6,2]],\n",
        "       4:[[6,2]],\n",
        "       6:[[6,0]]\n",
        "       }\n",
        "start = 0\n",
        "end = 6"
      ],
      "execution_count": 306,
      "outputs": []
    },
    {
      "cell_type": "code",
      "metadata": {
        "id": "uhgjYghqOlWu"
      },
      "source": [
        "graph = {\n",
        "    0:[[1,1]],\n",
        "    0:[[2,3]],\n",
        "    1:[[3,2]],\n",
        "    2:[[3,4]],\n",
        "    0 : [[3,2]]\n",
        "    \n",
        "    }\n",
        "start = 0\n",
        "end = 3"
      ],
      "execution_count": 315,
      "outputs": []
    },
    {
      "cell_type": "code",
      "metadata": {
        "id": "8QeJYvicPhwu"
      },
      "source": [
        "graph = {\n",
        "    0:[[1,1]],\n",
        "    0:[[2,3]],\n",
        "    1:[[3,2]],\n",
        "    2:[[3,4]],\n",
        "    \n",
        "    }\n",
        "start = 0\n",
        "end = 3"
      ],
      "execution_count": null,
      "outputs": []
    },
    {
      "cell_type": "code",
      "metadata": {
        "colab": {
          "base_uri": "https://localhost:8080/"
        },
        "id": "1Lf3FCud-Tsj",
        "outputId": "e4584fc4-fa51-45ac-8ddc-10b20ff17251"
      },
      "source": [
        "\n",
        "pq = PriorityQueue()\n",
        "pq.put(start,0)\n",
        "Visited = []\n",
        "Visited.append(start)\n",
        "\n",
        "while (pq.empty() == False):\n",
        "  u = pq.get()\n",
        "  \n",
        "  if (u == end):\n",
        "    print(\"Found\")\n",
        "    break\n",
        "  for x in graph[u]:\n",
        "    if (x[0] not in Visited):\n",
        "      Visited.append(x[0])\n",
        "      pq.put(x[0],x[1])\n",
        "else:\n",
        "  print(\"cant find\")  \n",
        "\n",
        "print(Visited)"
      ],
      "execution_count": 316,
      "outputs": [
        {
          "output_type": "stream",
          "text": [
            "Found\n",
            "[0, 3]\n"
          ],
          "name": "stdout"
        }
      ]
    },
    {
      "cell_type": "code",
      "metadata": {
        "id": "vgW6HIVNKzZC"
      },
      "source": [
        ""
      ],
      "execution_count": null,
      "outputs": []
    }
  ]
}