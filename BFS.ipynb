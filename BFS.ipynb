{
  "nbformat": 4,
  "nbformat_minor": 0,
  "metadata": {
    "colab": {
      "name": "BFS",
      "provenance": [],
      "authorship_tag": "ABX9TyM+VofFio1o4ZsvgUh5xGe1",
      "include_colab_link": true
    },
    "kernelspec": {
      "name": "python3",
      "display_name": "Python 3"
    },
    "language_info": {
      "name": "python"
    }
  },
  "cells": [
    {
      "cell_type": "markdown",
      "metadata": {
        "id": "view-in-github",
        "colab_type": "text"
      },
      "source": [
        "<a href=\"https://colab.research.google.com/github/SadafShafi/AI_batch_2018/blob/main/BFS.ipynb\" target=\"_parent\"><img src=\"https://colab.research.google.com/assets/colab-badge.svg\" alt=\"Open In Colab\"/></a>"
      ]
    },
    {
      "cell_type": "markdown",
      "metadata": {
        "id": "dWuX19Qf3hKP"
      },
      "source": [
        "BFS (Breadth First Search)"
      ]
    },
    {
      "cell_type": "markdown",
      "metadata": {
        "id": "vaLIFqW34rVi"
      },
      "source": [
        "Traversal"
      ]
    },
    {
      "cell_type": "code",
      "metadata": {
        "colab": {
          "base_uri": "https://localhost:8080/"
        },
        "id": "f8L0jEVK-sVX",
        "outputId": "9be36d85-d804-4815-e18b-d2bb4988ed0f"
      },
      "source": [
        "\n",
        "\n",
        "graph = {0:[1,2],1:[3,4],2:[5,6],3:[],4:[],5:[],6:[]}\n",
        "# graph = {0: [1, 2], 1: [2], 2: [3], 3: [1, 2]}\n",
        "\n",
        "root = 0\n",
        "\n",
        "Queue = []\n",
        "Visited = []\n",
        "\n",
        "Queue.append(root)\n",
        "Visited.append(root)\n",
        "\n",
        "while(Queue):\n",
        "\n",
        "  node = Queue.pop(0)\n",
        "  print(str(node) + \" \", end=\"\")\n",
        "\n",
        "  for child in graph[node]:\n",
        "    if(child not in Visited):\n",
        "      Visited.append(child)\n",
        "      Queue.append(child)\n",
        " "
      ],
      "execution_count": 28,
      "outputs": [
        {
          "output_type": "stream",
          "text": [
            "0 1 2 3 4 5 6 "
          ],
          "name": "stdout"
        }
      ]
    },
    {
      "cell_type": "markdown",
      "metadata": {
        "id": "bfNtsEvi3zBS"
      },
      "source": [
        "**Searching in the tree**"
      ]
    },
    {
      "cell_type": "code",
      "metadata": {
        "colab": {
          "base_uri": "https://localhost:8080/"
        },
        "id": "remUlCEM3x7J",
        "outputId": "a7d2f90d-7768-4ec2-c575-2444f18c70c9"
      },
      "source": [
        "graph = {0:[1,2],1:[3,4],2:[5,6],3:[],4:[],5:[],6:[]}\n",
        "# graph = {0: [1, 2], 1: [2], 2: [3], 3: [1, 2]}\n",
        "\n",
        "toFind = 7\n",
        "root = 0\n",
        "\n",
        "Queue = []\n",
        "Visited = []\n",
        "flagTobreak = False\n",
        "Queue.append(root)\n",
        "Visited.append(root)\n",
        "\n",
        "while(Queue):\n",
        "\n",
        "  node = Queue.pop(0)\n",
        "  # print(str(node) + \" \", end=\"\")\n",
        "  \n",
        "  for child in graph[node]:\n",
        "    if(child not in Visited):\n",
        "      Visited.append(child)\n",
        "      Queue.append(child)\n",
        "      if(child == toFind ):\n",
        "        print(\"got it\")\n",
        "        flagTobreak = True\n",
        "        break\n",
        "  if(flagTobreak):\n",
        "    break\n",
        "else:\n",
        "    print(\"not present\")"
      ],
      "execution_count": 34,
      "outputs": [
        {
          "output_type": "stream",
          "text": [
            "not present\n"
          ],
          "name": "stdout"
        }
      ]
    },
    {
      "cell_type": "code",
      "metadata": {
        "id": "fietrzLD4Ix4"
      },
      "source": [
        ""
      ],
      "execution_count": null,
      "outputs": []
    }
  ]
}