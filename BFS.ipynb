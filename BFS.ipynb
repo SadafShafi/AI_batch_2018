{
  "nbformat": 4,
  "nbformat_minor": 0,
  "metadata": {
    "colab": {
      "name": "BFS",
      "provenance": [],
      "authorship_tag": "ABX9TyO+77DtYqz4/ULgxKawVIzT",
      "include_colab_link": true
    },
    "kernelspec": {
      "name": "python3",
      "display_name": "Python 3"
    },
    "language_info": {
      "name": "python"
    }
  },
  "cells": [
    {
      "cell_type": "markdown",
      "metadata": {
        "id": "view-in-github",
        "colab_type": "text"
      },
      "source": [
        "<a href=\"https://colab.research.google.com/github/SadafShafi/AI_batch_2018/blob/main/BFS.ipynb\" target=\"_parent\"><img src=\"https://colab.research.google.com/assets/colab-badge.svg\" alt=\"Open In Colab\"/></a>"
      ]
    },
    {
      "cell_type": "markdown",
      "metadata": {
        "id": "dWuX19Qf3hKP"
      },
      "source": [
        "BFS (Breadth First Search)"
      ]
    },
    {
      "cell_type": "code",
      "metadata": {
        "id": "4d6uFcebbCkl",
        "outputId": "8019f3bf-4441-4b1b-dedd-c39e3a2081c1",
        "colab": {
          "base_uri": "https://localhost:8080/",
          "height": 321
        }
      },
      "source": [
        "#@title\n",
        "from IPython.display import YouTubeVideo\n",
        "YouTubeVideo('x-VTfcmrLEQ')"
      ],
      "execution_count": 1,
      "outputs": [
        {
          "output_type": "execute_result",
          "data": {
            "text/html": [
              "\n",
              "        <iframe\n",
              "            width=\"400\"\n",
              "            height=\"300\"\n",
              "            src=\"https://www.youtube.com/embed/x-VTfcmrLEQ\"\n",
              "            frameborder=\"0\"\n",
              "            allowfullscreen\n",
              "        ></iframe>\n",
              "        "
            ],
            "text/plain": [
              "<IPython.lib.display.YouTubeVideo at 0x7f10c9d571d0>"
            ],
            "image/jpeg": "[encoded data removed]"
          },
          "metadata": {
            "tags": []
          },
          "execution_count": 1
        }
      ]
    },
    {
      "cell_type": "markdown",
      "metadata": {
        "id": "x6F0-jDFbdAl"
      },
      "source": [
        "For Interactive Visualization click [here](https://www.cs.usfca.edu/~galles/visualization/BFS.html)"
      ]
    },
    {
      "cell_type": "markdown",
      "metadata": {
        "id": "vaLIFqW34rVi"
      },
      "source": [
        "Traversal"
      ]
    },
    {
      "cell_type": "code",
      "metadata": {
        "colab": {
          "base_uri": "https://localhost:8080/"
        },
        "id": "f8L0jEVK-sVX",
        "outputId": "725ffc51-a10d-4f8d-bc19-34a72cfdf446"
      },
      "source": [
        "\n",
        "\n",
        "graph = {0:[1,2],1:[3,4],2:[5,6],3:[],4:[],5:[],6:[]}\n",
        "# graph = {0: [1, 2], 1: [2], 2: [3], 3: [1, 2]}\n",
        "\n",
        "root = 0\n",
        "\n",
        "Queue = []\n",
        "Visited = []\n",
        "\n",
        "Queue.append(root)\n",
        "Visited.append(root)\n",
        "\n",
        "while(Queue):\n",
        "\n",
        "  node = Queue.pop(0)\n",
        "  print(str(node) + \" \", end=\"\")\n",
        "\n",
        "  for child in graph[node]:\n",
        "    if(child not in Visited):\n",
        "      Visited.append(child)\n",
        "      Queue.append(child)\n",
        " "
      ],
      "execution_count": 2,
      "outputs": [
        {
          "output_type": "stream",
          "text": [
            "0 1 2 3 4 5 6 "
          ],
          "name": "stdout"
        }
      ]
    },
    {
      "cell_type": "markdown",
      "metadata": {
        "id": "bfNtsEvi3zBS"
      },
      "source": [
        "**Searching in the tree**"
      ]
    },
    {
      "cell_type": "code",
      "metadata": {
        "colab": {
          "base_uri": "https://localhost:8080/"
        },
        "id": "remUlCEM3x7J",
        "outputId": "6597061a-8bd4-4a0e-f729-13b6eabd1866"
      },
      "source": [
        "graph = {0:[1,2],1:[3,4],2:[5,6],3:[],4:[],5:[],6:[]}\n",
        "# graph = {0: [1, 2], 1: [2], 2: [3], 3: [1, 2]}\n",
        "\n",
        "toFind = 3              # which node you'd want to find : you may play with it\n",
        "root = 0\n",
        "\n",
        "Queue = []\n",
        "Visited = []\n",
        "flagTobreak = False\n",
        "Queue.append(root)\n",
        "Visited.append(root)\n",
        "\n",
        "while(Queue):\n",
        "\n",
        "  node = Queue.pop(0)\n",
        "  # print(str(node) + \" \", end=\"\")\n",
        "  \n",
        "  for child in graph[node]:\n",
        "    if(child not in Visited):\n",
        "      Visited.append(child)\n",
        "      Queue.append(child)\n",
        "      if(child == toFind ):\n",
        "        print(\"got it\")\n",
        "        flagTobreak = True\n",
        "        break\n",
        "  if(flagTobreak):\n",
        "    break\n",
        "else:\n",
        "    print(\"not present\")"
      ],
      "execution_count": 4,
      "outputs": [
        {
          "output_type": "stream",
          "text": [
            "got it\n"
          ],
          "name": "stdout"
        }
      ]
    },
    {
      "cell_type": "markdown",
      "metadata": {
        "id": "sbLIdFlTb6OJ"
      },
      "source": [
        "\n",
        "Written By Sadaf Shafi\n",
        "\n",
        "\n",
        "---\n",
        "\n",
        "\n",
        "\n",
        "---\n",
        "\n",
        "\n",
        "In case you need any help or find any error in the code, please write to me sadaf.shafi@islamicuniversity.edu.in"
      ]
    }
  ]
}